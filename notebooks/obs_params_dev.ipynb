{
 "cells": [
  {
   "cell_type": "code",
   "execution_count": 7,
   "metadata": {},
   "outputs": [],
   "source": [
    "import numpy as np"
   ]
  },
  {
   "cell_type": "code",
   "execution_count": 16,
   "metadata": {},
   "outputs": [],
   "source": [
    "np.set_printoptions(precision=3, suppress=True)"
   ]
  },
  {
   "cell_type": "code",
   "execution_count": 17,
   "metadata": {},
   "outputs": [],
   "source": [
    "def obs_params(reduced_model=False):\n",
    "\n",
    "    \"\"\"\n",
    "    Parameters for x_o, two optionss: either 2 params (reduced_model=True) or 10\n",
    "    Returns\n",
    "    -------\n",
    "    params : array\n",
    "    labels : list of str\n",
    "\n",
    "    \"\"\"\n",
    "\n",
    "    if reduced_model:\n",
    "        params = np.zeros(5)\n",
    "        params[0] = 0.01527  * 1000  # (S/cm2)\n",
    "        params[1] = 0.000430 * 1000  # (S/cm2)\n",
    "        params[2] = 0.142    * 1000  # (S/cm2)\n",
    "        params[3] = 0.00313  * 1000  # (S/cm2)\n",
    "        params[4] = 5e-05    * 1000  # (S/cm2)\n",
    "\n",
    "        labels = ['gbar_nap', 'gbar_leak', 'gbar_nat', 'gbar_kdr', 'gbar_hcn']\n",
    "    else:\n",
    "        params = np.zeros(11)\n",
    "        params[0] = 0.01527  * 1000  # (S/cm2)\n",
    "        params[1] = 0.000430 * 1000  # (S/cm2)\n",
    "        params[3] = 0.00313  * 1000  # (S/cm2)\n",
    "        params[2] = 0.142    * 1000  # (S/cm2)\n",
    "        params[4] = 5e-05    * 1000  # (S/cm2)\n",
    "\n",
    "        params[5] = 13.659   # nap_h['tau_max']\n",
    "        params[6] =-19.19    # nap_h['vs']\n",
    "        params[7] = 15.332   # nap_m['tau_max']\n",
    "        params[8] = 16.11    # nap_m['vs']\n",
    "        params[9] = 21.286   # kdr_n['tau_max']\n",
    "        params[10] = 18.84   # kdr_n['vs']\n",
    "        labels = ['gbar_nap', 'gbar_leak', 'gbar_nat', 'gbar_kdr', 'gbar_hcn',\n",
    "                  'nap_h_tau_max', 'nap_h_vs', 'nap_m_tau_max', 'nap_m_vs',\n",
    "                  'kdr_n_tau_max', 'kdr_n_vs']\n",
    "\n",
    "    return params, labels"
   ]
  },
  {
   "cell_type": "code",
   "execution_count": 25,
   "metadata": {},
   "outputs": [],
   "source": [
    "\n",
    "def load_prior_ranges(n_params=11):\n",
    "    \"\"\"Returns ranges of parameters narrowed down based on best 3500 models\"\"\"\n",
    "\n",
    "    labels = ['gbar_nap', 'gbar_leak', 'gbar_nat', 'gbar_kdr', 'gbar_hcn',\n",
    "              'nap_h_tau_max', 'nap_h_vs', 'nap_m_tau_max', 'nap_m_vs',\n",
    "              'kdr_n_tau_max', 'kdr_n_vs']\n",
    "                      \n",
    "    prior_min = np.array((0.003274, 0.0001, 0.000430, 0.021962, 0.001925, 0.000041,\n",
    "                      1.662074, -31.186329, 3.384709, 4.124004, 9.287113, 6.848391))\n",
    "  \n",
    "    prior_max = np.array(( 0.027263, 0.002, 0.261845, 0.004325, 0.000065,\n",
    "                    25.651677, -7.194925, 27.320601, 28.028747, 33.284546, 30.840173))\n",
    "\n",
    "    scale = np.ones_like(prior_min)\n",
    "    scale[0:5] = 1000\n",
    "    scale = scale[:n_params]\n",
    "    \n",
    "    return prior_min[:n_params]*scale, prior_max[:n_params]*scale, labels[:n_params]\n"
   ]
  },
  {
   "cell_type": "code",
   "execution_count": 26,
   "metadata": {},
   "outputs": [
    {
     "data": {
      "text/plain": [
       "(array([  3.274,   0.1  ,   0.43 ,  21.962,   1.925,   0.   ,   1.662,\n",
       "        -31.186,   3.385,   4.124,   9.287]),\n",
       " array([ 27.263,   2.   , 261.845,   4.325,   0.065,  25.652,  -7.195,\n",
       "         27.321,  28.029,  33.285,  30.84 ]),\n",
       " ['gbar_nap',\n",
       "  'gbar_leak',\n",
       "  'gbar_nat',\n",
       "  'gbar_kdr',\n",
       "  'gbar_hcn',\n",
       "  'nap_h_tau_max',\n",
       "  'nap_h_vs',\n",
       "  'nap_m_tau_max',\n",
       "  'nap_m_vs',\n",
       "  'kdr_n_tau_max',\n",
       "  'kdr_n_vs'])"
      ]
     },
     "execution_count": 26,
     "metadata": {},
     "output_type": "execute_result"
    }
   ],
   "source": [
    "load_prior_ranges()"
   ]
  },
  {
   "cell_type": "code",
   "execution_count": 20,
   "metadata": {},
   "outputs": [
    {
     "data": {
      "text/plain": [
       "(array([ 15.27 ,   0.43 , 142.   ,   3.13 ,   0.05 ,  13.659, -19.19 ,\n",
       "         15.332,  16.11 ,  21.286,  18.84 ]),\n",
       " ['gbar_nap',\n",
       "  'gbar_leak',\n",
       "  'gbar_nat',\n",
       "  'gbar_kdr',\n",
       "  'gbar_hcn',\n",
       "  'nap_h_tau_max',\n",
       "  'nap_h_vs',\n",
       "  'nap_m_tau_max',\n",
       "  'nap_m_vs',\n",
       "  'kdr_n_tau_max',\n",
       "  'kdr_n_vs'])"
      ]
     },
     "execution_count": 20,
     "metadata": {},
     "output_type": "execute_result"
    }
   ],
   "source": [
    "obs_params()"
   ]
  },
  {
   "cell_type": "code",
   "execution_count": null,
   "metadata": {},
   "outputs": [],
   "source": []
  }
 ],
 "metadata": {
  "kernelspec": {
   "display_name": "Python 3",
   "language": "python",
   "name": "python3"
  },
  "language_info": {
   "codemirror_mode": {
    "name": "ipython",
    "version": 3
   },
   "file_extension": ".py",
   "mimetype": "text/x-python",
   "name": "python",
   "nbconvert_exporter": "python",
   "pygments_lexer": "ipython3",
   "version": "3.7.2"
  }
 },
 "nbformat": 4,
 "nbformat_minor": 2
}
